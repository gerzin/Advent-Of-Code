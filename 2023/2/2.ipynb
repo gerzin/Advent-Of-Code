{
 "cells": [
  {
   "cell_type": "markdown",
   "metadata": {},
   "source": [
    "# Part one\n",
    "\n",
    "```\n",
    "--- Day 2: Cube Conundrum ---\n",
    "You're launched high into the atmosphere! The apex of your trajectory just barely reaches the surface of a large island floating in the sky. You gently land in a fluffy pile of leaves. It's quite cold, but you don't see much snow. An Elf runs over to greet you.\n",
    "\n",
    "The Elf explains that you've arrived at Snow Island and apologizes for the lack of snow. He'll be happy to explain the situation, but it's a bit of a walk, so you have some time. They don't get many visitors up here; would you like to play a game in the meantime?\n",
    "\n",
    "As you walk, the Elf shows you a small bag and some cubes which are either red, green, or blue. Each time you play this game, he will hide a secret number of cubes of each color in the bag, and your goal is to figure out information about the number of cubes.\n",
    "\n",
    "To get information, once a bag has been loaded with cubes, the Elf will reach into the bag, grab a handful of random cubes, show them to you, and then put them back in the bag. He'll do this a few times per game.\n",
    "\n",
    "You play several games and record the information from each game (your puzzle input). Each game is listed with its ID number (like the 11 in Game 11: ...) followed by a semicolon-separated list of subsets of cubes that were revealed from the bag (like 3 red, 5 green, 4 blue).\n",
    "\n",
    "For example, the record of a few games might look like this:\n",
    "\n",
    "Game 1: 3 blue, 4 red; 1 red, 2 green, 6 blue; 2 green\n",
    "Game 2: 1 blue, 2 green; 3 green, 4 blue, 1 red; 1 green, 1 blue\n",
    "Game 3: 8 green, 6 blue, 20 red; 5 blue, 4 red, 13 green; 5 green, 1 red\n",
    "Game 4: 1 green, 3 red, 6 blue; 3 green, 6 red; 3 green, 15 blue, 14 red\n",
    "Game 5: 6 red, 1 blue, 3 green; 2 blue, 1 red, 2 green\n",
    "In game 1, three sets of cubes are revealed from the bag (and then put back again). The first set is 3 blue cubes and 4 red cubes; the second set is 1 red cube, 2 green cubes, and 6 blue cubes; the third set is only 2 green cubes.\n",
    "\n",
    "The Elf would first like to know which games would have been possible if the bag contained only 12 red cubes, 13 green cubes, and 14 blue cubes?\n",
    "\n",
    "In the example above, games 1, 2, and 5 would have been possible if the bag had been loaded with that configuration. However, game 3 would have been impossible because at one point the Elf showed you 20 red cubes at once; similarly, game 4 would also have been impossible because the Elf showed you 15 blue cubes at once. If you add up the IDs of the games that would have been possible, you get 8.\n",
    "\n",
    "Determine which games would have been possible if the bag had been loaded with only 12 red cubes, 13 green cubes, and 14 blue cubes. What is the sum of the IDs of those games?\n",
    "\n",
    "Your puzzle answer was 2348.\n",
    "```"
   ]
  },
  {
   "cell_type": "code",
   "execution_count": 4,
   "metadata": {},
   "outputs": [
    {
     "data": {
      "text/plain": [
       "2348"
      ]
     },
     "execution_count": 4,
     "metadata": {},
     "output_type": "execute_result"
    }
   ],
   "source": [
    "import re\n",
    "\n",
    "max_red = 12\n",
    "max_green = 13\n",
    "max_blue = 14\n",
    "\n",
    "def to_rgb(game):\n",
    "    r,g,b = 0,0,0\n",
    "\n",
    "    rred = r\"(\\d+)\\s*red\"\n",
    "    rgreen =r\"(\\d+)\\s*green\"\n",
    "    rblue = r\"(\\d+)\\s*blue\"\n",
    "\n",
    "    r_match = re.search(rred, game)\n",
    "    g_match = re.search(rgreen, game)\n",
    "    b_match = re.search(rblue, game)\n",
    "\n",
    "\n",
    "    if r_match:\n",
    "        r = int(r_match.group(1))\n",
    "    if g_match:\n",
    "        g = int(g_match.group(1))\n",
    "    if b_match:\n",
    "        b = int(b_match.group(1))\n",
    "    \n",
    "    return r,g,b\n",
    "\n",
    "with open(\"input.txt\") as f:\n",
    "    lines = f.readlines()\n",
    "    lines = [[game_number, game.split(\":\")[1]] for game_number, game in enumerate(lines, 1)]\n",
    "    lines = [[x[0], x[1].split(\";\")] for x in lines]\n",
    "    lines = [[x[0], list(map(to_rgb, x[1]))] for x in lines]\n",
    "\n",
    "def is_valid(rgb):\n",
    "    r,g,b = rgb\n",
    "    return (r <= max_red) and (g<= max_green) and (b <= max_blue)\n",
    "\n",
    "\n",
    "valid_games_sum = 0\n",
    "\n",
    "for number, games in lines:\n",
    "    if all(map(is_valid, games)):\n",
    "        valid_games_sum += number\n",
    "valid_games_sum"
   ]
  },
  {
   "cell_type": "markdown",
   "metadata": {},
   "source": [
    "# Part two\n",
    "```\n",
    "--- Part Two ---\n",
    "The Elf says they've stopped producing snow because they aren't getting any water! He isn't sure why the water stopped; however, he can show you how to get to the water source to check it out for yourself. It's just up ahead!\n",
    "\n",
    "As you continue your walk, the Elf poses a second question: in each game you played, what is the fewest number of cubes of each color that could have been in the bag to make the game possible?\n",
    "\n",
    "Again consider the example games from earlier:\n",
    "\n",
    "Game 1: 3 blue, 4 red; 1 red, 2 green, 6 blue; 2 green\n",
    "Game 2: 1 blue, 2 green; 3 green, 4 blue, 1 red; 1 green, 1 blue\n",
    "Game 3: 8 green, 6 blue, 20 red; 5 blue, 4 red, 13 green; 5 green, 1 red\n",
    "Game 4: 1 green, 3 red, 6 blue; 3 green, 6 red; 3 green, 15 blue, 14 red\n",
    "Game 5: 6 red, 1 blue, 3 green; 2 blue, 1 red, 2 green\n",
    "In game 1, the game could have been played with as few as 4 red, 2 green, and 6 blue cubes. If any color had even one fewer cube, the game would have been impossible.\n",
    "Game 2 could have been played with a minimum of 1 red, 3 green, and 4 blue cubes.\n",
    "Game 3 must have been played with at least 20 red, 13 green, and 6 blue cubes.\n",
    "Game 4 required at least 14 red, 3 green, and 15 blue cubes.\n",
    "Game 5 needed no fewer than 6 red, 3 green, and 2 blue cubes in the bag.\n",
    "The power of a set of cubes is equal to the numbers of red, green, and blue cubes multiplied together. The power of the minimum set of cubes in game 1 is 48. In games 2-5 it was 12, 1560, 630, and 36, respectively. Adding up these five powers produces the sum 2286.\n",
    "\n",
    "For each game, find the minimum set of cubes that must have been present. What is the sum of the power of these sets?\n",
    "\n",
    "Your puzzle answer was 76008.\n",
    "```"
   ]
  },
  {
   "cell_type": "code",
   "execution_count": 5,
   "metadata": {},
   "outputs": [
    {
     "data": {
      "text/plain": [
       "76008"
      ]
     },
     "execution_count": 5,
     "metadata": {},
     "output_type": "execute_result"
    }
   ],
   "source": [
    "import re\n",
    "\n",
    "max_red = 12\n",
    "max_green = 13\n",
    "max_blue = 14\n",
    "\n",
    "def to_rgb(game):\n",
    "    r,g,b = 0,0,0\n",
    "\n",
    "    rred = r\"(\\d+)\\s*red\"\n",
    "    rgreen =r\"(\\d+)\\s*green\"\n",
    "    rblue = r\"(\\d+)\\s*blue\"\n",
    "\n",
    "    r_match = re.search(rred, game)\n",
    "    g_match = re.search(rgreen, game)\n",
    "    b_match = re.search(rblue, game)\n",
    "\n",
    "\n",
    "    if r_match:\n",
    "        r = int(r_match.group(1))\n",
    "    if g_match:\n",
    "        g = int(g_match.group(1))\n",
    "    if b_match:\n",
    "        b = int(b_match.group(1))\n",
    "    \n",
    "    return r,g,b\n",
    "\n",
    "with open(\"input.txt\") as f:\n",
    "    lines = f.readlines()\n",
    "    lines = [[game_number, game.split(\":\")[1]] for game_number, game in enumerate(lines, 1)]\n",
    "    lines = [[x[0], x[1].split(\";\")] for x in lines]\n",
    "    lines = [[x[0], list(map(to_rgb, x[1]))] for x in lines]\n",
    "\n",
    "\n",
    "def get_max_rgbs(rgb_list):\n",
    "    max_r = 0\n",
    "    max_g = 0\n",
    "    max_b = 0\n",
    "\n",
    "    for (r,g,b) in rgb_list:\n",
    "        if r > max_r:\n",
    "            max_r = r\n",
    "        if g > max_g:\n",
    "            max_g = g\n",
    "        if b > max_b:\n",
    "            max_b = b\n",
    "    return max_r, max_g, max_b\n",
    "\n",
    "\n",
    "min_poss_values = [[x[0], get_max_rgbs(x[1])] for x in lines]\n",
    "\n",
    "powers = [r*g*b for _, (r,g,b) in min_poss_values]\n",
    "sum(powers)\n"
   ]
  }
 ],
 "metadata": {
  "kernelspec": {
   "display_name": "Python 3",
   "language": "python",
   "name": "python3"
  },
  "language_info": {
   "codemirror_mode": {
    "name": "ipython",
    "version": 3
   },
   "file_extension": ".py",
   "mimetype": "text/x-python",
   "name": "python",
   "nbconvert_exporter": "python",
   "pygments_lexer": "ipython3",
   "version": "3.11.6"
  }
 },
 "nbformat": 4,
 "nbformat_minor": 2
}
