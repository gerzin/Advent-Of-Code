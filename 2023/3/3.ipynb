{
 "cells": [
  {
   "cell_type": "markdown",
   "metadata": {},
   "source": [
    "# part one\n",
    "```\n",
    "--- Day 3: Gear Ratios ---\n",
    "You and the Elf eventually reach a gondola lift station; he says the gondola lift will take you up to the water source, but this is as far as he can bring you. You go inside.\n",
    "\n",
    "It doesn't take long to find the gondolas, but there seems to be a problem: they're not moving.\n",
    "\n",
    "\"Aaah!\"\n",
    "\n",
    "You turn around to see a slightly-greasy Elf with a wrench and a look of surprise. \"Sorry, I wasn't expecting anyone! The gondola lift isn't working right now; it'll still be a while before I can fix it.\" You offer to help.\n",
    "\n",
    "The engineer explains that an engine part seems to be missing from the engine, but nobody can figure out which one. If you can add up all the part numbers in the engine schematic, it should be easy to work out which part is missing.\n",
    "\n",
    "The engine schematic (your puzzle input) consists of a visual representation of the engine. There are lots of numbers and symbols you don't really understand, but apparently any number adjacent to a symbol, even diagonally, is a \"part number\" and should be included in your sum. (Periods (.) do not count as a symbol.)\n",
    "\n",
    "Here is an example engine schematic:\n",
    "\n",
    "467..114..\n",
    "...*......\n",
    "..35..633.\n",
    "......#...\n",
    "617*......\n",
    ".....+.58.\n",
    "..592.....\n",
    "......755.\n",
    "...$.*....\n",
    ".664.598..\n",
    "In this schematic, two numbers are not part numbers because they are not adjacent to a symbol: 114 (top right) and 58 (middle right). Every other number is adjacent to a symbol and so is a part number; their sum is 4361.\n",
    "\n",
    "Of course, the actual engine schematic is much larger. What is the sum of all of the part numbers in the engine schematic?\n",
    "\n",
    "Your puzzle answer was 521601.\n",
    "```"
   ]
  },
  {
   "cell_type": "code",
   "execution_count": 1,
   "metadata": {},
   "outputs": [
    {
     "data": {
      "text/plain": [
       "['48.................501....33.....622..............763.........331.................161.683......................................980..........\\n',\n",
       " '...491.842.....948*..................338.....*......=...........-...309.......633*....*....................*990...706...452......*..+.......\\n',\n",
       " '...*...*....................426........*..408.........................*............659...............250.........&.......*.....767...403....\\n',\n",
       " '363.....961...959#.508*223......843.406..........690................%..479.....................398.../....*............458..................\\n',\n",
       " '......=.........................................*....@946........767.........907=.................@....158.850..+670..............10*790....\\n',\n",
       " '.......39.306...679.%113...............665....874....................597...................861.........................840...855............\\n',\n",
       " '.................*.........864.....154*....#..............1*......4..........341..................731*..........783.....#.......*204........\\n',\n",
       " '..919...........706.....*......891........840..%473.........379....*149........-..115..519............668..........*423.....................\\n',\n",
       " '...*.................398.190......$.............................#.......=.%530......$..*..............................................475...\\n',\n",
       " '.543...@.............................834..729.&.........146......789.189........511...17........455*308..662.............530................\\n']"
      ]
     },
     "execution_count": 1,
     "metadata": {},
     "output_type": "execute_result"
    }
   ],
   "source": [
    "with open(\"input.txt\", \"r\") as f:\n",
    "    lines = f.readlines()\n",
    "lines[:10]"
   ]
  },
  {
   "cell_type": "code",
   "execution_count": 2,
   "metadata": {},
   "outputs": [],
   "source": [
    "def is_symbol(char: str):\n",
    "    return not (char.isdigit() or char in \".\\n\")\n",
    "\n",
    "def is_digit(char:str):\n",
    "    return char.isdigit()\n"
   ]
  },
  {
   "cell_type": "code",
   "execution_count": 3,
   "metadata": {},
   "outputs": [],
   "source": [
    "# find position of numbers and symbols (O(nlines*lineslength))\n",
    "numbers = []\n",
    "symbols = []\n",
    "possible_gears = []\n",
    "for i, line in enumerate(lines):\n",
    "    char_num = 0\n",
    "    while char_num < len(line):\n",
    "        number, start = \"\", None\n",
    "        while is_digit(line[char_num]):\n",
    "            if not number:\n",
    "                start = char_num\n",
    "            number += line[char_num]\n",
    "            char_num += 1\n",
    "\n",
    "        if number:\n",
    "            numbers.append((number, i, start))\n",
    "        \n",
    "        if is_symbol(line[char_num]):\n",
    "            symbols.append((i, char_num))\n",
    "            if line[char_num] == \"*\":\n",
    "                possible_gears.append((i, char_num))\n",
    "        \n",
    "        char_num += 1\n"
   ]
  },
  {
   "cell_type": "code",
   "execution_count": 4,
   "metadata": {},
   "outputs": [
    {
     "name": "stdout",
     "output_type": "stream",
     "text": [
      "numbers[:3]=[('48', 0, 0), ('501', 0, 19), ('33', 0, 26)], symbols[:3]=[(1, 18), (1, 45), (1, 52)]\n",
      "len(numbers)=1207, len(symbols)=740\n"
     ]
    }
   ],
   "source": [
    "print(f\"{numbers[:3]=}, {symbols[:3]=}\")\n",
    "print(f\"{len(numbers)=}, {len(symbols)=}\")"
   ]
  },
  {
   "cell_type": "code",
   "execution_count": 5,
   "metadata": {},
   "outputs": [],
   "source": [
    "from typing import Any\n",
    "import bisect\n",
    "\n",
    "class SparseMatrix:\n",
    "    def __init__(self, symbols) -> None:\n",
    "        self.rows = {}\n",
    "        for x,y in symbols:\n",
    "            if self.rows.get(x) is None:\n",
    "                self.rows[x] = []\n",
    "            bisect.insort(self.rows[x], y)\n",
    "\n",
    "    def exists(self, x, y):\n",
    "        row = self.rows.get(x)\n",
    "        if row is None:\n",
    "            return False\n",
    "        index = bisect.bisect_left(row, y)\n",
    "        return index < len(row) and row[index] == y\n",
    "\n",
    "sparse_symbols_matrix = SparseMatrix(symbols)"
   ]
  },
  {
   "cell_type": "code",
   "execution_count": 6,
   "metadata": {},
   "outputs": [
    {
     "name": "stdout",
     "output_type": "stream",
     "text": [
      "521601\n"
     ]
    }
   ],
   "source": [
    "def get_adjacent_indices(x, y, matrix=lines):\n",
    "    rows, cols = len(matrix), len(matrix[0])\n",
    "    adjacent_indices = []\n",
    "\n",
    "    # Define possible offsets for neighboring cells\n",
    "    offsets = [(-1, -1), (-1, 0), (-1, 1),\n",
    "               (0, -1),           (0, 1),\n",
    "               (1, -1), (1, 0), (1, 1)]\n",
    "\n",
    "    for dx, dy in offsets:\n",
    "        new_x, new_y = x + dx, y + dy\n",
    "\n",
    "        # Check if the new indices are within bounds\n",
    "        if 0 <= new_x < rows and 0 <= new_y < cols:\n",
    "            adjacent_indices.append((new_x, new_y))\n",
    "\n",
    "    return adjacent_indices\n",
    "\n",
    "adjacent_numbers_sum = 0\n",
    "for number, row, start_col in numbers:\n",
    "\n",
    "    appended = False\n",
    "    for i in range(start_col, start_col+len(number)):\n",
    "        \n",
    "        # find adjacent symbols in O(1)\n",
    "        for X, Y in get_adjacent_indices(row, i):\n",
    "            if sparse_symbols_matrix.exists(X, Y):\n",
    "                adjacent_numbers_sum += int(number)\n",
    "                appended = True\n",
    "                break\n",
    "        if appended:\n",
    "            break\n",
    "        \n",
    "print(adjacent_numbers_sum)"
   ]
  },
  {
   "cell_type": "markdown",
   "metadata": {},
   "source": [
    "# Part two\n",
    "\n",
    "```\n",
    "--- Part Two ---\n",
    "The engineer finds the missing part and installs it in the engine! As the engine springs to life, you jump in the closest gondola, finally ready to ascend to the water source.\n",
    "\n",
    "You don't seem to be going very fast, though. Maybe something is still wrong? Fortunately, the gondola has a phone labeled \"help\", so you pick it up and the engineer answers.\n",
    "\n",
    "Before you can explain the situation, she suggests that you look out the window. There stands the engineer, holding a phone in one hand and waving with the other. You're going so slowly that you haven't even left the station. You exit the gondola.\n",
    "\n",
    "The missing part wasn't the only issue - one of the gears in the engine is wrong. A gear is any * symbol that is adjacent to exactly two part numbers. Its gear ratio is the result of multiplying those two numbers together.\n",
    "\n",
    "This time, you need to find the gear ratio of every gear and add them all up so that the engineer can figure out which gear needs to be replaced.\n",
    "\n",
    "Consider the same engine schematic again:\n",
    "\n",
    "467..114..\n",
    "...*......\n",
    "..35..633.\n",
    "......#...\n",
    "617*......\n",
    ".....+.58.\n",
    "..592.....\n",
    "......755.\n",
    "...$.*....\n",
    ".664.598..\n",
    "In this schematic, there are two gears. The first is in the top left; it has part numbers 467 and 35, so its gear ratio is 16345. The second gear is in the lower right; its gear ratio is 451490. (The * adjacent to 617 is not a gear because it is only adjacent to one part number.) Adding up all of the gear ratios produces 467835.\n",
    "\n",
    "What is the sum of all of the gear ratios in your engine schematic?\n",
    "\n",
    "Your puzzle answer was 80694070.\n",
    "\n",
    "\n",
    "```"
   ]
  },
  {
   "cell_type": "code",
   "execution_count": 7,
   "metadata": {},
   "outputs": [],
   "source": [
    "class SparseNumberMatrix:\n",
    "    def __init__(self, numbers) -> None:\n",
    "        self.numbers = {}\n",
    "        for val, row, start_col in numbers:\n",
    "            if self.numbers.get(row) is None:\n",
    "                self.numbers[row] = []\n",
    "            self.numbers[row].append((val, start_col))\n",
    "    \n",
    "    def get_number_covering_cell(self, x,y):\n",
    "        row = self.numbers.get(x)\n",
    "        if row is None:\n",
    "            return None\n",
    "        for number_tuple in row:\n",
    "            number, start_pos = number_tuple\n",
    "            if start_pos <= y < start_pos + len(number):\n",
    "                return number_tuple\n",
    "\n",
    "sparse_number_matrix = SparseNumberMatrix(numbers)\n"
   ]
  },
  {
   "cell_type": "code",
   "execution_count": 8,
   "metadata": {},
   "outputs": [
    {
     "name": "stdout",
     "output_type": "stream",
     "text": [
      "80694070\n"
     ]
    }
   ],
   "source": [
    "from functools import reduce\n",
    "\n",
    "\n",
    "\n",
    "result = 0\n",
    "\n",
    "for gear in possible_gears:\n",
    "    adjacent_indices = get_adjacent_indices(*gear)\n",
    "\n",
    "    adjacent_numbers = [sparse_number_matrix.get_number_covering_cell(*pos) for pos in adjacent_indices]\n",
    "    adjacent_numbers = set([int(x[0]) for x in adjacent_numbers if x])\n",
    "    \n",
    "    \n",
    "    if len(adjacent_numbers) > 1:\n",
    "        result += reduce(lambda x,y: x*y, adjacent_numbers, 1)\n",
    "    \n",
    "\n",
    "print(result)\n"
   ]
  }
 ],
 "metadata": {
  "kernelspec": {
   "display_name": "Python 3",
   "language": "python",
   "name": "python3"
  },
  "language_info": {
   "codemirror_mode": {
    "name": "ipython",
    "version": 3
   },
   "file_extension": ".py",
   "mimetype": "text/x-python",
   "name": "python",
   "nbconvert_exporter": "python",
   "pygments_lexer": "ipython3",
   "version": "3.11.6"
  }
 },
 "nbformat": 4,
 "nbformat_minor": 2
}
