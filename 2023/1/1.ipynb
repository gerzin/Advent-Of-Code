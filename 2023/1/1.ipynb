{
 "cells": [
  {
   "cell_type": "markdown",
   "metadata": {},
   "source": [
    "# Part one\n",
    "```\n",
    "--- Day 1: Trebuchet?! ---\n",
    "Something is wrong with global snow production, and you've been selected to take a look. The Elves have even given you a map; on it, they've used stars to mark the top fifty locations that are likely to be having problems.\n",
    "\n",
    "You've been doing this long enough to know that to restore snow operations, you need to check all fifty stars by December 25th.\n",
    "\n",
    "Collect stars by solving puzzles. Two puzzles will be made available on each day in the Advent calendar; the second puzzle is unlocked when you complete the first. Each puzzle grants one star. Good luck!\n",
    "\n",
    "You try to ask why they can't just use a weather machine (\"not powerful enough\") and where they're even sending you (\"the sky\") and why your map looks mostly blank (\"you sure ask a lot of questions\") and hang on did you just say the sky (\"of course, where do you think snow comes from\") when you realize that the Elves are already loading you into a trebuchet (\"please hold still, we need to strap you in\").\n",
    "\n",
    "As they're making the final adjustments, they discover that their calibration document (your puzzle input) has been amended by a very young Elf who was apparently just excited to show off her art skills. Consequently, the Elves are having trouble reading the values on the document.\n",
    "\n",
    "The newly-improved calibration document consists of lines of text; each line originally contained a specific calibration value that the Elves now need to recover. On each line, the calibration value can be found by combining the first digit and the last digit (in that order) to form a single two-digit number.\n",
    "\n",
    "For example:\n",
    "\n",
    "1abc2\n",
    "pqr3stu8vwx\n",
    "a1b2c3d4e5f\n",
    "treb7uchet\n",
    "In this example, the calibration values of these four lines are 12, 38, 15, and 77. Adding these together produces 142.\n",
    "\n",
    "Consider your entire calibration document. What is the sum of all of the calibration values?\n",
    "\n",
    "Your puzzle answer was 55017.\n",
    "```\n"
   ]
  },
  {
   "cell_type": "code",
   "execution_count": 1,
   "metadata": {},
   "outputs": [
    {
     "name": "stdout",
     "output_type": "stream",
     "text": [
      "55017\n"
     ]
    }
   ],
   "source": [
    "def find_first_digit(s):\n",
    "    for c in s:\n",
    "        if c.isdigit():\n",
    "            return c\n",
    "        \n",
    "        \n",
    "with open(\"input.txt\") as f:\n",
    "    lines = f.readlines()\n",
    "    lines = [find_first_digit(l) + find_first_digit(reversed(l)) for l in lines]\n",
    "    result = sum(map(int, lines))\n",
    "    print(result)\n",
    "\n",
    "        "
   ]
  },
  {
   "cell_type": "markdown",
   "metadata": {},
   "source": [
    "# Part two\n",
    "\n",
    "```\n",
    "Your puzzle answer was 55017.\n",
    "\n",
    "--- Part Two ---\n",
    "Your calculation isn't quite right. It looks like some of the digits are actually spelled out with letters: one, two, three, four, five, six, seven, eight, and nine also count as valid \"digits\".\n",
    "\n",
    "Equipped with this new information, you now need to find the real first and last digit on each line. For example:\n",
    "\n",
    "two1nine\n",
    "eightwothree\n",
    "abcone2threexyz\n",
    "xtwone3four\n",
    "4nineeightseven2\n",
    "zoneight234\n",
    "7pqrstsixteen\n",
    "In this example, the calibration values are 29, 83, 13, 24, 42, 14, and 76. Adding these together produces 281.\n",
    "\n",
    "What is the sum of all of the calibration values?\n",
    "\n",
    "Your puzzle answer was 53539.\n",
    "\n",
    "\n",
    "```"
   ]
  },
  {
   "cell_type": "code",
   "execution_count": 2,
   "metadata": {},
   "outputs": [
    {
     "name": "stdout",
     "output_type": "stream",
     "text": [
      "53539\n"
     ]
    }
   ],
   "source": [
    "def f(line):\n",
    "    digits = {\n",
    "        \"one\": \"1\", \"two\": \"2\", \"three\": \"3\", \"four\": \"4\", \"five\": \"5\", \"six\": \"6\", \"seven\": \"7\", \"eight\": \"8\", \"nine\": \"9\",\n",
    "    }\n",
    "    for i,c in enumerate(line):\n",
    "        if c.isdigit():\n",
    "            return c\n",
    "        else:\n",
    "            chunk = line[i:i+5]\n",
    "            for k, v in digits.items():\n",
    "                if chunk.startswith(k):\n",
    "                    return v\n",
    "            \n",
    "\n",
    "def l(line):\n",
    "    digits = {\n",
    "        \"one\": \"1\", \"two\": \"2\", \"three\": \"3\", \"four\": \"4\", \"five\": \"5\", \"six\": \"6\", \"seven\": \"7\", \"eight\": \"8\", \"nine\": \"9\",\n",
    "    }\n",
    "\n",
    "    digits = {\n",
    "        k[::-1]: v for k,v in digits.items()\n",
    "    }\n",
    "\n",
    "    line = line[::-1]\n",
    "\n",
    "    for i, c in enumerate(line):\n",
    "        if c.isdigit():\n",
    "            return c\n",
    "        else:\n",
    "            chunk = line[i:i+5]\n",
    "            for k, v in digits.items():\n",
    "                if chunk.startswith(k):\n",
    "                    return v\n",
    "\n",
    "\n",
    "with open(\"input.txt\") as file:\n",
    "    lines = file.readlines()\n",
    "    lines = [f(ln) + l(ln) for ln in lines]\n",
    "    result = sum(map(int, lines))\n",
    "    print(result)"
   ]
  }
 ],
 "metadata": {
  "kernelspec": {
   "display_name": "Python 3",
   "language": "python",
   "name": "python3"
  },
  "language_info": {
   "codemirror_mode": {
    "name": "ipython",
    "version": 3
   },
   "file_extension": ".py",
   "mimetype": "text/x-python",
   "name": "python",
   "nbconvert_exporter": "python",
   "pygments_lexer": "ipython3",
   "version": "3.11.6"
  }
 },
 "nbformat": 4,
 "nbformat_minor": 2
}
